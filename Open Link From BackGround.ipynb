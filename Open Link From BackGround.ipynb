{
 "cells": [
  {
   "cell_type": "code",
   "execution_count": null,
   "metadata": {},
   "outputs": [],
   "source": [
    "import webbrowser\n",
    "import time\n",
    "import schedule\n",
    "\n",
    "\n",
    "def lunch_Time_One():\n",
    "    webbrowser.open(\"https://www.youtube.com/watch?v=4jruLdkHhi4\")\n",
    "\n",
    "def lunch_Time_Two():\n",
    "    webbrowser.open(\"https://www.youtube.com/watch?v=SY1VL-Jhn90\")\n",
    "\n",
    "def every_house():\n",
    "    webbrowser.open(\"https://www.youtube.com/watch?v=NbyHNASFi6U\") \n",
    "\n",
    "    \n",
    "if __name__ == '__main__':\n",
    "    ## Every Day.\n",
    "    schedule.every().monday.at(\"13:10\").do(lunch_Time_One)\n",
    "    schedule.every().tuesday.at(\"13:10\").do(lunch_Time_Two)\n",
    "    schedule.every().wednesday.at(\"13:10\").do(lunch_Time_One)\n",
    "    schedule.every().thursday.at(\"13:10\").do(lunch_Time_Two)\n",
    "    schedule.every().friday.at(\"13:10\").do(lunch_Time_One)\n",
    "    schedule.every().saturday.at(\"13:10\").do(lunch_Time_Two)\n",
    "\n",
    "    ## Every house.\n",
    "    schedule.every(1).hour.do(every_house) \n",
    "   ## schedule.every(1).minutes.do(every_house)\n",
    "    \n",
    "    while True: \n",
    "  \n",
    "        # Checks whether a scheduled task  \n",
    "        # is pending to run or not \n",
    "        schedule.run_pending() \n",
    "        time.sleep(1) \n"
   ]
  },
  {
   "cell_type": "code",
   "execution_count": null,
   "metadata": {},
   "outputs": [],
   "source": []
  },
  {
   "cell_type": "code",
   "execution_count": null,
   "metadata": {},
   "outputs": [],
   "source": []
  }
 ],
 "metadata": {
  "kernelspec": {
   "display_name": "Python 3",
   "language": "python",
   "name": "python3"
  },
  "language_info": {
   "codemirror_mode": {
    "name": "ipython",
    "version": 3
   },
   "file_extension": ".py",
   "mimetype": "text/x-python",
   "name": "python",
   "nbconvert_exporter": "python",
   "pygments_lexer": "ipython3",
   "version": "3.7.0"
  }
 },
 "nbformat": 4,
 "nbformat_minor": 2
}
